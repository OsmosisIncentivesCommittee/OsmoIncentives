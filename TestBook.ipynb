{
 "cells": [
  {
   "cell_type": "code",
   "execution_count": 6,
   "metadata": {},
   "outputs": [],
   "source": [
    "from util import *\n",
    "\n",
    "\n",
    "class Parser:\n",
    "    _assetlist_url = \"https://raw.githubusercontent.com/ToggLeTek/assetlists/main/osmosis-1/osmosis-frontier.assetlist.json\"\n",
    "\n",
    "    _assetlist: dict\n",
    "    _parsed_assetlist_by_denom: dict\n",
    "\n",
    "    async def update(self):\n",
    "        async with load_json() as client:\n",
    "            req = await client.get(self._assetlist_url)\n",
    "\n",
    "        if req.status_code != 200:\n",
    "            raise Exception(\"Error parsing assetlist\")\n",
    "        self._assetlist = req.json()\n",
    "\n",
    "    async def parse(self):\n",
    "        parsed_assetlist_by_denom = {}\n",
    "        for asset in self._assetlist['assets']:\n",
    "            denom = asset['denom_units: [\"aliases\"]']\n",
    "\n",
    "            parsed_assetlist_by_denom[denom] = {\n",
    "                'denom': denom\n",
    "            }\n",
    "        self._parsed_assetlist_by_denom = parsed_assetlist_by_denom\n",
    "\n",
    "    @property\n",
    "    def parsed_assetlist_by_denom(self):\n",
    "        return self._parsed_assetlist_by_denom"
   ]
  },
  {
   "cell_type": "code",
   "execution_count": 7,
   "metadata": {},
   "outputs": [],
   "source": [
    "import parseStaking\n",
    "import strings\n",
    "\n",
    "def load_mintscan_rates():\n",
    "    listed_denoms = Parser.parsed_assetlist_by_denom\n",
    "    if listed_denoms not in parseStaking.Parser.parsed_rates_by_denom:\n",
    "        return strings.GENERAL_ERROR"
   ]
  }
 ],
 "metadata": {
  "kernelspec": {
   "display_name": "Python 3.10.4 64-bit",
   "language": "python",
   "name": "python3"
  },
  "language_info": {
   "codemirror_mode": {
    "name": "ipython",
    "version": 3
   },
   "file_extension": ".py",
   "mimetype": "text/x-python",
   "name": "python",
   "nbconvert_exporter": "python",
   "pygments_lexer": "ipython3",
   "version": "3.10.4"
  },
  "orig_nbformat": 4,
  "vscode": {
   "interpreter": {
    "hash": "369f2c481f4da34e4445cda3fffd2e751bd1c4d706f27375911949ba6bb62e1c"
   }
  }
 },
 "nbformat": 4,
 "nbformat_minor": 2
}
